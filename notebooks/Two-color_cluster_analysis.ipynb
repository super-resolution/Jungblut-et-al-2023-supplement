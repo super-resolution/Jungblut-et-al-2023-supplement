{
 "cells": [
  {
   "cell_type": "markdown",
   "metadata": {},
   "source": [
    "# SPIKE cluster analysis"
   ]
  },
  {
   "cell_type": "markdown",
   "metadata": {},
   "source": [
    "7.04.2023 Sören"
   ]
  },
  {
   "cell_type": "markdown",
   "metadata": {},
   "source": [
    "## Initial setup"
   ]
  },
  {
   "cell_type": "code",
   "execution_count": null,
   "metadata": {
    "tags": [
     "hide-input"
    ]
   },
   "outputs": [],
   "source": [
    "import sys\n",
    "from pathlib import Path\n",
    "import re\n",
    "import logging\n",
    "import itertools\n",
    "\n",
    "%matplotlib inline\n",
    "\n",
    "import numpy as np\n",
    "import pandas as pd\n",
    "import matplotlib.pyplot as plt\n",
    "import matplotlib.colors as mplcolors\n",
    "from colorcet import m_gray\n",
    "from scipy import stats\n",
    "import boost_histogram as bh\n",
    "import plotly\n",
    "\n",
    "import locan as lc"
   ]
  },
  {
   "cell_type": "code",
   "execution_count": null,
   "metadata": {
    "tags": [
     "hide-input"
    ]
   },
   "outputs": [],
   "source": [
    "lc.show_versions(dependencies=False)"
   ]
  },
  {
   "cell_type": "raw",
   "metadata": {
    "tags": []
   },
   "source": [
    "!pip-compile \"../requirements/requirements.in\" --output-file \"../requirements/win-py310-requirements.txt\""
   ]
  },
  {
   "cell_type": "raw",
   "metadata": {
    "tags": []
   },
   "source": [
    "!conda env export > \"../requirements/win-py310-environment.yml\""
   ]
  },
  {
   "cell_type": "code",
   "execution_count": null,
   "metadata": {
    "tags": [
     "hide-input"
    ]
   },
   "outputs": [],
   "source": [
    "logging.basicConfig(stream=sys.stdout, level=logging.INFO, format='%(asctime)s - %(name)s - %(levelname)s - %(message)s')\n",
    "logger = logging.getLogger()"
   ]
  },
  {
   "cell_type": "code",
   "execution_count": null,
   "metadata": {},
   "outputs": [],
   "source": [
    "rng = np.random.default_rng(seed=1)"
   ]
  },
  {
   "cell_type": "markdown",
   "metadata": {},
   "source": [
    "## Load data"
   ]
  },
  {
   "cell_type": "code",
   "execution_count": null,
   "metadata": {
    "tags": []
   },
   "outputs": [],
   "source": [
    "files = lc.Files.from_glob(\n",
    "    pattern=\"**/*_AntiS2Spike568*.txt\",\n",
    "    directory=Path('.') / '../data/two-channel',\n",
    "    column=\"receptor\"\n",
    ")\n",
    "stoplist = lc.Files.concatenate([\n",
    "    lc.Files.from_glob(directory=files.directory, pattern=\"**/*settings.txt\"),\n",
    "    lc.Files.from_glob(directory=files.directory, pattern=\"**/*README*.txt\"),\n",
    "    lc.Files.from_glob(directory=files.directory, pattern=\"**/*/beads + matrix/*.txt\")\n",
    "])\n",
    "files.exclude(stoplist=stoplist, column=\"receptor\")\n",
    "\n",
    "other_files = lc.Files.from_glob(\n",
    "    pattern=\"**/*_Cy5*.txt\",\n",
    "    directory=files.directory\n",
    ")\n",
    "other_files.exclude(stoplist=stoplist)\n",
    "files.match_files(files=other_files.df, column=\"receptor\", other_column=\"other\")\n",
    "\n",
    "matrix_files = lc.Files.from_glob(\n",
    "    pattern=\"**/*_RAW*.txt\",\n",
    "    directory=files.directory\n",
    ")\n",
    "matrix_files.exclude(stoplist=stoplist)\n",
    "files.match_files(files=matrix_files.df, column=\"receptor\", other_column=\"matrix\")\n",
    "\n",
    "files.match_file_upstream(column=\"receptor\", pattern=\"metadata.toml\")\n",
    "\n",
    "files.print_summary()\n",
    "files.df.applymap(lambda x: x.name)"
   ]
  },
  {
   "cell_type": "markdown",
   "metadata": {},
   "source": [
    "Set the selector to the index for a single file to be analyzed."
   ]
  },
  {
   "cell_type": "code",
   "execution_count": null,
   "metadata": {
    "tags": [
     "parameters",
     "hide-input"
    ]
   },
   "outputs": [],
   "source": [
    "# This cell has a tag 'parameters'\n",
    "# It will be modified by a script running this notebook with all listed files.\n",
    "\n",
    "selector = 0"
   ]
  },
  {
   "cell_type": "code",
   "execution_count": null,
   "metadata": {
    "tags": []
   },
   "outputs": [],
   "source": [
    "print(f'selector: {selector}')\n",
    "files[selector]"
   ]
  },
  {
   "cell_type": "code",
   "execution_count": null,
   "metadata": {
    "tags": []
   },
   "outputs": [],
   "source": [
    "files[0].apply(lambda x: x.name)"
   ]
  },
  {
   "cell_type": "markdown",
   "metadata": {},
   "source": [
    "### Prepare metadata"
   ]
  },
  {
   "cell_type": "code",
   "execution_count": null,
   "metadata": {},
   "outputs": [],
   "source": [
    "metadata = lc.load_metadata_from_toml(files[selector].metadata)['metadata']"
   ]
  },
  {
   "cell_type": "markdown",
   "metadata": {},
   "source": [
    "### Load localization file"
   ]
  },
  {
   "cell_type": "code",
   "execution_count": null,
   "metadata": {},
   "outputs": [],
   "source": [
    "locdatas = [\n",
    "    lc.load_locdata(files[selector].receptor, file_type=lc.FileType.RAPIDSTORM),\n",
    "    lc.load_locdata(files[selector].other, file_type=lc.FileType.RAPIDSTORM)\n",
    "]\n",
    "\n",
    "for locdata in locdatas:\n",
    "    locdata.meta.MergeFrom(metadata)\n",
    "    \n",
    "locdatas[0].dataframe = locdatas[0].dataframe.assign(channel= 0)\n",
    "locdatas[1].dataframe = locdatas[1].dataframe.assign(channel= 1)\n",
    "\n",
    "for locdata in locdatas:\n",
    "    print(f'Metadata:\\n')\n",
    "    locdata.print_summary()"
   ]
  },
  {
   "cell_type": "markdown",
   "metadata": {},
   "source": [
    "## Select"
   ]
  },
  {
   "cell_type": "code",
   "execution_count": null,
   "metadata": {
    "tags": [
     "hide-input"
    ]
   },
   "outputs": [],
   "source": [
    "conditions = [\n",
    "    '1_000 < frame < 25_000  and 5_000 < intensity',\n",
    "    '1_000 < frame < 25_000 and 5_000 < intensity'\n",
    "]\n",
    "\n",
    "for i, (locdata, condition) in enumerate(zip(locdatas, conditions)):\n",
    "    locdata = lc.select_by_condition(locdata, condition=condition)\n",
    "    locdata.reduce()\n",
    "    locdatas[i] = locdata\n",
    "    print(condition)"
   ]
  },
  {
   "cell_type": "code",
   "execution_count": null,
   "metadata": {},
   "outputs": [],
   "source": [
    "locdata = locdatas[0]\n",
    "locdata.properties"
   ]
  },
  {
   "cell_type": "code",
   "execution_count": null,
   "metadata": {
    "tags": [
     "hide-input"
    ]
   },
   "outputs": [],
   "source": [
    "locdata.data.head()"
   ]
  },
  {
   "cell_type": "code",
   "execution_count": null,
   "metadata": {},
   "outputs": [],
   "source": [
    "locdatas[0].data.describe()"
   ]
  },
  {
   "cell_type": "code",
   "execution_count": null,
   "metadata": {},
   "outputs": [],
   "source": [
    "locdatas[1].data.describe()"
   ]
  },
  {
   "cell_type": "markdown",
   "metadata": {
    "tags": []
   },
   "source": [
    "## Transform"
   ]
  },
  {
   "cell_type": "markdown",
   "metadata": {
    "tags": []
   },
   "source": [
    "### Bunwarp"
   ]
  },
  {
   "cell_type": "code",
   "execution_count": null,
   "metadata": {},
   "outputs": [],
   "source": [
    "matrix_path = files[selector].matrix\n",
    "assert matrix_path.exists()\n",
    "matrix_path"
   ]
  },
  {
   "cell_type": "code",
   "execution_count": null,
   "metadata": {},
   "outputs": [],
   "source": [
    "locdatas[0] = lc.bunwarp(locdata=locdatas[0], matrix_path=matrix_path, pixel_size=(10, 10), flip=True)"
   ]
  },
  {
   "cell_type": "markdown",
   "metadata": {
    "tags": []
   },
   "source": [
    "## Visualize"
   ]
  },
  {
   "cell_type": "code",
   "execution_count": null,
   "metadata": {},
   "outputs": [],
   "source": [
    "figsize = np.array([16, 8]) * 2\n",
    "bin_size = 50"
   ]
  },
  {
   "cell_type": "code",
   "execution_count": null,
   "metadata": {
    "tags": [
     "hide-input"
    ]
   },
   "outputs": [],
   "source": [
    "fig, ax = plt.subplots(1, 1, figsize=figsize)\n",
    "lc.render_2d(locdatas[0], ax=ax, bin_size=bin_size, rescale=lc.Trafo.EQUALIZE);"
   ]
  },
  {
   "cell_type": "code",
   "execution_count": null,
   "metadata": {
    "tags": [
     "hide-input"
    ]
   },
   "outputs": [],
   "source": [
    "fig, ax = plt.subplots(1, 1, figsize=figsize)\n",
    "lc.render_2d(locdatas[1], ax=ax, bin_size=bin_size, rescale=lc.Trafo.EQUALIZE);"
   ]
  },
  {
   "cell_type": "code",
   "execution_count": null,
   "metadata": {
    "tags": [
     "hide-input"
    ]
   },
   "outputs": [],
   "source": [
    "fig, ax = plt.subplots(1, 2, figsize=figsize)\n",
    "for locdata, ax in zip(locdatas, ax):\n",
    "    lc.render_2d(locdata, ax=ax, bin_size=bin_size, rescale=lc.Trafo.EQUALIZE_0P3);\n",
    "    # locdata.region.plot(ax=ax, fill=False, color='White');\n",
    "    ax.set(aspect='equal')"
   ]
  },
  {
   "cell_type": "code",
   "execution_count": null,
   "metadata": {
    "tags": [
     "hide-input"
    ]
   },
   "outputs": [],
   "source": [
    "fig, ax = plt.subplots(1, 2, figsize=figsize)\n",
    "for locdata, ax in zip(locdatas, ax):\n",
    "    lc.render_2d_mpl(locdata, ax=ax, bin_size=100, rescale=lc.Trafo.NONE, vmin=0, vmax=500);\n",
    "    # locdata.region.plot(ax=ax, fill=False, color='White');\n",
    "    ax.set(aspect='equal')"
   ]
  },
  {
   "cell_type": "code",
   "execution_count": null,
   "metadata": {},
   "outputs": [],
   "source": [
    "fig, ax = plt.subplots(1, 1, figsize=figsize)\n",
    "lc.render_2d_rgb_mpl(locdatas, bin_size=bin_size, rescale=lc.Trafo.EQUALIZE);"
   ]
  },
  {
   "cell_type": "markdown",
   "metadata": {},
   "source": [
    "## Cluster combined data"
   ]
  },
  {
   "cell_type": "code",
   "execution_count": null,
   "metadata": {},
   "outputs": [],
   "source": [
    "locdata_all = lc.LocData.concat(locdatas)\n",
    "locdata_all.properties"
   ]
  },
  {
   "cell_type": "code",
   "execution_count": null,
   "metadata": {},
   "outputs": [],
   "source": [
    "locdata_all.data.describe()"
   ]
  },
  {
   "cell_type": "code",
   "execution_count": null,
   "metadata": {},
   "outputs": [],
   "source": [
    "fig, ax = plt.subplots(1, 1, figsize=figsize)\n",
    "lc.render_2d_mpl(locdata_all, bin_size=bin_size, rescale=lc.Trafo.EQUALIZE);"
   ]
  },
  {
   "cell_type": "markdown",
   "metadata": {
    "tags": []
   },
   "source": [
    "### Cluster data"
   ]
  },
  {
   "cell_type": "code",
   "execution_count": null,
   "metadata": {},
   "outputs": [],
   "source": [
    "%%time\n",
    "noise, clust = lc.cluster_dbscan(locdata_all, eps=75, min_samples=20)"
   ]
  },
  {
   "cell_type": "code",
   "execution_count": null,
   "metadata": {
    "tags": [
     "hide-input"
    ]
   },
   "outputs": [],
   "source": [
    "n_clustered_loc = np.sum([ref.properties['localization_count'] for ref in clust.references])\n",
    "print(f\"Number of clusters: {clust.properties['localization_count']}\")\n",
    "print(f\"Number of noise localizations: {noise.properties['localization_count']}\")\n",
    "print(f\"Number of clustered localizations: {n_clustered_loc}\")\n",
    "print(f\"Ratio cluster to noise localizations: {n_clustered_loc / (n_clustered_loc + noise.properties['localization_count']):.3}\")"
   ]
  },
  {
   "cell_type": "code",
   "execution_count": null,
   "metadata": {},
   "outputs": [],
   "source": [
    "clust.properties"
   ]
  },
  {
   "cell_type": "markdown",
   "metadata": {},
   "source": [
    "### Compute convex hull for each cluster."
   ]
  },
  {
   "cell_type": "code",
   "execution_count": null,
   "metadata": {},
   "outputs": [],
   "source": [
    "clust.update_convex_hulls_in_references()"
   ]
  },
  {
   "cell_type": "markdown",
   "metadata": {},
   "source": [
    "Optional: Turn nan entries that arise from computation of region measures for non-existing hull objects to zero. This allows plotting histograms for region measures and similar properties."
   ]
  },
  {
   "cell_type": "raw",
   "metadata": {},
   "source": [
    "clust.data.fillna(0, inplace=True)"
   ]
  },
  {
   "cell_type": "markdown",
   "metadata": {},
   "source": [
    "## Cluster properties (all cluster)"
   ]
  },
  {
   "cell_type": "markdown",
   "metadata": {},
   "source": [
    "### Number of localizations per cluster"
   ]
  },
  {
   "cell_type": "code",
   "execution_count": null,
   "metadata": {
    "tags": [
     "hide-input"
    ]
   },
   "outputs": [],
   "source": [
    "clust_prop_nloc = lc.LocalizationProperty(loc_property='localization_count').compute(clust)"
   ]
  },
  {
   "cell_type": "code",
   "execution_count": null,
   "metadata": {
    "tags": [
     "hide-input"
    ]
   },
   "outputs": [],
   "source": [
    "clust_prop_nloc.hist(bins=100);"
   ]
  },
  {
   "cell_type": "code",
   "execution_count": null,
   "metadata": {
    "tags": [
     "hide-input"
    ]
   },
   "outputs": [],
   "source": [
    "clust_prop_nloc.distribution_statistics.parameter_dict()"
   ]
  },
  {
   "cell_type": "markdown",
   "metadata": {},
   "source": [
    "### Cluster areas as estimated by the convex hull of all localizations in the cluster"
   ]
  },
  {
   "cell_type": "code",
   "execution_count": null,
   "metadata": {
    "tags": [
     "hide-input"
    ]
   },
   "outputs": [],
   "source": [
    "clust_prop_region = lc.LocalizationProperty(loc_property='region_measure_ch').compute(clust)"
   ]
  },
  {
   "cell_type": "code",
   "execution_count": null,
   "metadata": {
    "tags": [
     "hide-input"
    ]
   },
   "outputs": [],
   "source": [
    "clust_prop_region.hist(bins=100);"
   ]
  },
  {
   "cell_type": "code",
   "execution_count": null,
   "metadata": {
    "tags": [
     "hide-input"
    ]
   },
   "outputs": [],
   "source": [
    "clust_prop_region.distribution_statistics.parameter_dict()"
   ]
  },
  {
   "cell_type": "markdown",
   "metadata": {},
   "source": [
    "### Inertia Moments"
   ]
  },
  {
   "cell_type": "code",
   "execution_count": null,
   "metadata": {},
   "outputs": [],
   "source": [
    "clust.update_inertia_moments_in_references()"
   ]
  },
  {
   "cell_type": "code",
   "execution_count": null,
   "metadata": {},
   "outputs": [],
   "source": [
    "plt.hist(clust.data.circularity_im);"
   ]
  },
  {
   "cell_type": "code",
   "execution_count": null,
   "metadata": {},
   "outputs": [],
   "source": [
    "plt.hist(clust.data.orientation_im);"
   ]
  },
  {
   "cell_type": "markdown",
   "metadata": {},
   "source": [
    "#### Correlation between localisations per cluster and circularity"
   ]
  },
  {
   "cell_type": "code",
   "execution_count": null,
   "metadata": {},
   "outputs": [],
   "source": [
    "locdata_properties = ['localization_count', 'circularity_im']\n",
    "axes = bh.axis.AxesTuple((\n",
    "    bh.axis.Regular(50, 10, 10_000, transform=bh.axis.transform.log), \n",
    "    bh.axis.Regular(50, 0, 1)))\n",
    "\n",
    "histogram = bh.Histogram(*axes)\n",
    "\n",
    "histogram.reset()\n",
    "histogram.fill(*clust.data[locdata_properties].values.T)"
   ]
  },
  {
   "cell_type": "code",
   "execution_count": null,
   "metadata": {},
   "outputs": [],
   "source": [
    "fig, ax = plt.subplots(figsize=(10,7))\n",
    "mesh = ax.pcolormesh(*histogram.axes.edges.T, histogram.view().T);\n",
    "fig.colorbar(mesh);\n",
    "ax.set(\n",
    "    xlabel='localization_count',\n",
    "    ylabel='circularity_im',\n",
    "    # xticks=histogram.axes[0].edges.T,\n",
    "    # yticks=histogram.axes[1].edges.T,\n",
    "    xscale='log',\n",
    "    yscale='linear'\n",
    "      );"
   ]
  },
  {
   "cell_type": "markdown",
   "metadata": {},
   "source": [
    "### Oriented bounding box"
   ]
  },
  {
   "cell_type": "code",
   "execution_count": null,
   "metadata": {},
   "outputs": [],
   "source": [
    "clust.update_oriented_bounding_box_in_references()"
   ]
  },
  {
   "cell_type": "code",
   "execution_count": null,
   "metadata": {},
   "outputs": [],
   "source": [
    "plt.hist(clust.data.circularity_obb);"
   ]
  },
  {
   "cell_type": "code",
   "execution_count": null,
   "metadata": {},
   "outputs": [],
   "source": [
    "plt.hist(clust.data.orientation_obb);"
   ]
  },
  {
   "cell_type": "markdown",
   "metadata": {},
   "source": [
    "#### Correlation between localisations per cluster and circularity"
   ]
  },
  {
   "cell_type": "code",
   "execution_count": null,
   "metadata": {},
   "outputs": [],
   "source": [
    "locdata_properties = ['localization_count', 'circularity_obb']\n",
    "axes = bh.axis.AxesTuple((\n",
    "    bh.axis.Regular(50, 10, 10_000, transform=bh.axis.transform.log), \n",
    "    bh.axis.Regular(50, 0, 1)))\n",
    "\n",
    "histogram = bh.Histogram(*axes)\n",
    "\n",
    "histogram.reset()\n",
    "histogram.fill(*clust.data[locdata_properties].values.T)"
   ]
  },
  {
   "cell_type": "code",
   "execution_count": null,
   "metadata": {},
   "outputs": [],
   "source": [
    "fig, ax = plt.subplots(figsize=(10,7))\n",
    "mesh = ax.pcolormesh(*histogram.axes.edges.T, histogram.view().T);\n",
    "fig.colorbar(mesh);\n",
    "ax.set(\n",
    "    xlabel='localization_count',\n",
    "    ylabel='circularity_im',\n",
    "    # xticks=histogram.axes[0].edges.T,\n",
    "    # yticks=histogram.axes[1].edges.T,\n",
    "    xscale='log',\n",
    "    yscale='linear'\n",
    "      );"
   ]
  },
  {
   "cell_type": "markdown",
   "metadata": {},
   "source": [
    "#### Correlation between circularity_obb and circularity_im"
   ]
  },
  {
   "cell_type": "code",
   "execution_count": null,
   "metadata": {
    "tags": []
   },
   "outputs": [],
   "source": [
    "locdata_properties = ['circularity_obb', 'circularity_im']\n",
    "axes = bh.axis.AxesTuple((\n",
    "    bh.axis.Regular(100, 0, 1), \n",
    "    bh.axis.Regular(100, 0, 1)))\n",
    "\n",
    "histogram = bh.Histogram(*axes)\n",
    "\n",
    "histogram.reset()\n",
    "histogram.fill(*clust.data[locdata_properties].values.T)"
   ]
  },
  {
   "cell_type": "code",
   "execution_count": null,
   "metadata": {},
   "outputs": [],
   "source": [
    "fig, ax = plt.subplots(figsize=(10,7))\n",
    "mesh = ax.pcolormesh(*histogram.axes.edges.T, histogram.view().T);\n",
    "fig.colorbar(mesh);\n",
    "ax.set(\n",
    "    xlabel='circularity_obb',\n",
    "    ylabel='circularity_im',\n",
    "    # xticks=histogram.axes[0].edges.T,\n",
    "    # yticks=histogram.axes[1].edges.T,\n",
    "    xscale='linear',\n",
    "    yscale='linear'\n",
    "      );"
   ]
  },
  {
   "cell_type": "markdown",
   "metadata": {},
   "source": [
    "## Select cluster"
   ]
  },
  {
   "cell_type": "code",
   "execution_count": null,
   "metadata": {},
   "outputs": [],
   "source": [
    "clust_selection = clust"
   ]
  },
  {
   "cell_type": "markdown",
   "metadata": {},
   "source": [
    "### Eliminate cluster on boundary"
   ]
  },
  {
   "cell_type": "code",
   "execution_count": null,
   "metadata": {},
   "outputs": [],
   "source": [
    "clust_selection = lc.select_by_region(clust_selection, region=locdata_all.bounding_box.region.buffer(-200), reduce=False)"
   ]
  },
  {
   "cell_type": "markdown",
   "metadata": {},
   "source": [
    "### Select by cluster properties"
   ]
  },
  {
   "cell_type": "code",
   "execution_count": null,
   "metadata": {},
   "outputs": [],
   "source": [
    "condition = '0 < localization_count < 10_000 and ' \\\n",
    "            '0.7 < circularity_im and ' \\\n",
    "            '0.4 < circularity_obb and ' \\\n",
    "            '25_000 < region_measure_ch < 60_000'\n",
    "clust_selection = lc.select_by_condition(clust_selection, condition=condition)\n",
    "\n",
    "references_ = [clust.references[i] for i in clust_selection.indices]\n",
    "clust_selection.reduce()\n",
    "clust_selection.references = references_"
   ]
  },
  {
   "cell_type": "code",
   "execution_count": null,
   "metadata": {},
   "outputs": [],
   "source": [
    "clust_selection.properties"
   ]
  },
  {
   "cell_type": "code",
   "execution_count": null,
   "metadata": {},
   "outputs": [],
   "source": [
    "clust_selection.data.describe()"
   ]
  },
  {
   "cell_type": "markdown",
   "metadata": {},
   "source": [
    "### Cluster areas as estimated by the convex hull of all localizations in the cluster"
   ]
  },
  {
   "cell_type": "code",
   "execution_count": null,
   "metadata": {
    "tags": [
     "hide-input"
    ]
   },
   "outputs": [],
   "source": [
    "clust_prop_region = lc.LocalizationProperty(loc_property='region_measure_ch').compute(clust_selection)"
   ]
  },
  {
   "cell_type": "code",
   "execution_count": null,
   "metadata": {
    "tags": [
     "hide-input"
    ]
   },
   "outputs": [],
   "source": [
    "clust_prop_region.hist(bins=100);"
   ]
  },
  {
   "cell_type": "code",
   "execution_count": null,
   "metadata": {
    "tags": [
     "hide-input"
    ]
   },
   "outputs": [],
   "source": [
    "clust_prop_region.distribution_statistics.parameter_dict()"
   ]
  },
  {
   "cell_type": "markdown",
   "metadata": {
    "tags": []
   },
   "source": [
    "### Nearest-neighbor distributions of cluster centroids"
   ]
  },
  {
   "cell_type": "code",
   "execution_count": null,
   "metadata": {},
   "outputs": [],
   "source": [
    "nn = lc.NearestNeighborDistances().compute(clust_selection)"
   ]
  },
  {
   "cell_type": "code",
   "execution_count": null,
   "metadata": {},
   "outputs": [],
   "source": [
    "nn.hist()"
   ]
  },
  {
   "cell_type": "code",
   "execution_count": null,
   "metadata": {},
   "outputs": [],
   "source": [
    "nn.results.index = clust_selection.data.index\n",
    "clust_selection.dataframe = clust_selection.dataframe.assign(nn_distance=nn.results['nn_distance'])"
   ]
  },
  {
   "cell_type": "code",
   "execution_count": null,
   "metadata": {},
   "outputs": [],
   "source": [
    "colors = clust_selection.data['nn_distance']\n",
    "fig, ax = plt.subplots(nrows=1, ncols=1, figsize=(10, 10))\n",
    "mappable = ax.scatter(x=clust_selection.coordinates[:,0], y=clust_selection.coordinates[:,1], marker='.', c=colors, vmin=0, vmax=500, label='centroids red');\n",
    "fig.colorbar(mappable, ax=ax);\n",
    "ax.set(\n",
    "    aspect='equal',\n",
    "    # xlim=(-30, 30),\n",
    "    # ylim=(-30, 30)\n",
    ");"
   ]
  },
  {
   "cell_type": "markdown",
   "metadata": {},
   "source": [
    "## Shape and Orientation"
   ]
  },
  {
   "cell_type": "markdown",
   "metadata": {},
   "source": [
    "### Inertia Moments"
   ]
  },
  {
   "cell_type": "code",
   "execution_count": null,
   "metadata": {},
   "outputs": [],
   "source": [
    "plt.hist(clust_selection.data.circularity_im);"
   ]
  },
  {
   "cell_type": "code",
   "execution_count": null,
   "metadata": {},
   "outputs": [],
   "source": [
    "plt.hist(clust_selection.data.orientation_im);"
   ]
  },
  {
   "cell_type": "markdown",
   "metadata": {},
   "source": [
    "#### Correlation between localisations per cluster and circularity"
   ]
  },
  {
   "cell_type": "code",
   "execution_count": null,
   "metadata": {},
   "outputs": [],
   "source": [
    "locdata_properties = ['localization_count', 'circularity_im']\n",
    "axes = bh.axis.AxesTuple((\n",
    "    bh.axis.Regular(50, 10, 10_000, transform=bh.axis.transform.log), \n",
    "    bh.axis.Regular(50, 0, 1)))\n",
    "\n",
    "histogram = bh.Histogram(*axes)\n",
    "\n",
    "histogram.reset()\n",
    "histogram.fill(*clust_selection.data[locdata_properties].values.T)"
   ]
  },
  {
   "cell_type": "code",
   "execution_count": null,
   "metadata": {},
   "outputs": [],
   "source": [
    "fig, ax = plt.subplots(figsize=(10,7))\n",
    "mesh = ax.pcolormesh(*histogram.axes.edges.T, histogram.view().T);\n",
    "fig.colorbar(mesh);\n",
    "ax.set(\n",
    "    xlabel='localization_count',\n",
    "    ylabel='circularity_im',\n",
    "    # xticks=histogram.axes[0].edges.T,\n",
    "    # yticks=histogram.axes[1].edges.T,\n",
    "    xscale='log',\n",
    "    yscale='linear'\n",
    "      );"
   ]
  },
  {
   "cell_type": "markdown",
   "metadata": {},
   "source": [
    "### Oriented bounding box"
   ]
  },
  {
   "cell_type": "code",
   "execution_count": null,
   "metadata": {},
   "outputs": [],
   "source": [
    "plt.hist(clust_selection.data.circularity_obb);"
   ]
  },
  {
   "cell_type": "code",
   "execution_count": null,
   "metadata": {},
   "outputs": [],
   "source": [
    "plt.hist(clust_selection.data.orientation_obb);"
   ]
  },
  {
   "cell_type": "markdown",
   "metadata": {},
   "source": [
    "#### Correlation between localisations per cluster and circularity"
   ]
  },
  {
   "cell_type": "code",
   "execution_count": null,
   "metadata": {},
   "outputs": [],
   "source": [
    "locdata_properties = ['localization_count', 'circularity_obb']\n",
    "axes = bh.axis.AxesTuple((\n",
    "    bh.axis.Regular(50, 10, 10_000, transform=bh.axis.transform.log), \n",
    "    bh.axis.Regular(50, 0, 1)))\n",
    "\n",
    "histogram = bh.Histogram(*axes)\n",
    "\n",
    "histogram.reset()\n",
    "histogram.fill(*clust_selection.data[locdata_properties].values.T)"
   ]
  },
  {
   "cell_type": "code",
   "execution_count": null,
   "metadata": {},
   "outputs": [],
   "source": [
    "fig, ax = plt.subplots(figsize=(10,7))\n",
    "mesh = ax.pcolormesh(*histogram.axes.edges.T, histogram.view().T);\n",
    "fig.colorbar(mesh);\n",
    "ax.set(\n",
    "    xlabel='localization_count',\n",
    "    ylabel='circularity_obb',\n",
    "    # xticks=histogram.axes[0].edges.T,\n",
    "    # yticks=histogram.axes[1].edges.T,\n",
    "    xscale='log',\n",
    "    yscale='linear'\n",
    "      );"
   ]
  },
  {
   "cell_type": "markdown",
   "metadata": {},
   "source": [
    "#### Correlation between circularity_obb and circularity_im"
   ]
  },
  {
   "cell_type": "code",
   "execution_count": null,
   "metadata": {
    "tags": []
   },
   "outputs": [],
   "source": [
    "locdata_properties = ['circularity_obb', 'circularity_im']\n",
    "axes = bh.axis.AxesTuple((\n",
    "    bh.axis.Regular(100, 0, 1), \n",
    "    bh.axis.Regular(100, 0, 1)))\n",
    "\n",
    "histogram = bh.Histogram(*axes)\n",
    "\n",
    "histogram.reset()\n",
    "histogram.fill(*clust_selection.data[locdata_properties].values.T)"
   ]
  },
  {
   "cell_type": "code",
   "execution_count": null,
   "metadata": {},
   "outputs": [],
   "source": [
    "fig, ax = plt.subplots(figsize=(10,7))\n",
    "mesh = ax.pcolormesh(*histogram.axes.edges.T, histogram.view().T);\n",
    "fig.colorbar(mesh);\n",
    "ax.set(\n",
    "    xlabel='circularity_obb',\n",
    "    ylabel='circularity_im',\n",
    "    # xticks=histogram.axes[0].edges.T,\n",
    "    # yticks=histogram.axes[1].edges.T,\n",
    "    xscale='linear',\n",
    "    yscale='linear'\n",
    "      );"
   ]
  },
  {
   "cell_type": "markdown",
   "metadata": {},
   "source": [
    "## Identify cluster on individual channels"
   ]
  },
  {
   "cell_type": "code",
   "execution_count": null,
   "metadata": {},
   "outputs": [],
   "source": [
    "logger.setLevel(logging.ERROR)\n",
    "selections_0 = []\n",
    "selections_1 = []\n",
    "for reference in clust_selection.references:\n",
    "    selection = lc.select_by_condition(reference, condition=\"channel==0\")\n",
    "    selection.region = reference.convex_hull.region\n",
    "    selections_0.append(selection)\n",
    "    \n",
    "    selection = lc.select_by_condition(reference, condition=\"channel==1\")\n",
    "    selection.region = reference.convex_hull.region\n",
    "    selections_1.append(selection)\n",
    "    \n",
    "clusts = [\n",
    "    lc.LocData.from_collection(selections_0),\n",
    "    lc.LocData.from_collection(selections_1)\n",
    "]\n",
    "logger.setLevel(logging.WARN)"
   ]
  },
  {
   "cell_type": "code",
   "execution_count": null,
   "metadata": {},
   "outputs": [],
   "source": [
    "cluster_index = 0\n",
    "bin_size_ = 5\n",
    "\n",
    "fig, ax = plt.subplots(nrows=1, ncols=1, figsize=(32, 16))\n",
    "\n",
    "lc.render_2d(clust_selection.references[cluster_index], ax=ax, bin_size=bin_size_, rescale=lc.Trafo.EQUALIZE, cmap=m_gray.reversed())\n",
    "\n",
    "locdatas_ = [clusts[0].references[cluster_index], clusts[1].references[cluster_index]]\n",
    "lc.render_2d_rgb_mpl(locdatas_, bin_size=bin_size_, rescale=lc.Trafo.EQUALIZE);\n",
    "\n",
    "ax.add_patch(clust_selection.references[cluster_index].convex_hull.region.as_artist(alpha=0.3))\n",
    "\n",
    "ax.set(\n",
    "    title=f'cluster {cluster_index}',\n",
    "    aspect='equal',\n",
    "    # xlim=(0, 2000),\n",
    "    # ylim=(0, 2000)\n",
    ")\n",
    "ax.legend()\n",
    "plt.show()"
   ]
  },
  {
   "cell_type": "markdown",
   "metadata": {},
   "source": [
    "## Localizations property distributions for localizations in cluster selection"
   ]
  },
  {
   "cell_type": "code",
   "execution_count": null,
   "metadata": {},
   "outputs": [],
   "source": [
    "locdata_clust_selection_channels = [lc.LocData.concat(clust_.references) for clust_ in clusts]"
   ]
  },
  {
   "cell_type": "code",
   "execution_count": null,
   "metadata": {},
   "outputs": [],
   "source": [
    "columns = [column for column in locdata_clust_selection_channels[0].data.columns.to_list() if column not in \n",
    "           ['index', 'original_index', 'position_x', 'position_y', 'uncertainty_x', 'uncertainty_y', 'position_z', 'frame', 'channel']]\n",
    "columns"
   ]
  },
  {
   "cell_type": "code",
   "execution_count": null,
   "metadata": {},
   "outputs": [],
   "source": [
    "%%time\n",
    "lprops = {}\n",
    "for column in columns:\n",
    "    for locdata_clust_selection in locdata_clust_selection_channels:\n",
    "        lprops[column] = lc.LocalizationProperty(loc_property=column, index='frame').compute(locdata_clust_selection)\n",
    "\n",
    "        if column == 'intensity':\n",
    "            lprops[column].fit_distributions()\n",
    "        else:\n",
    "            lprops[column].fit_distributions(distribution=stats.norm)\n",
    "\n",
    "        fig, axs = plt.subplots(1, 2, figsize=(12, 5))\n",
    "        lprops[column].plot(window=1000, ax=axs[0])\n",
    "        lprops[column].hist(ax=axs[1])\n",
    "        plt.tight_layout()\n",
    "        plt.show()\n",
    "\n",
    "        print('Fit results: ', lprops[column].distribution_statistics.parameter_dict())"
   ]
  },
  {
   "cell_type": "markdown",
   "metadata": {},
   "source": [
    "## Cluster properties"
   ]
  },
  {
   "cell_type": "markdown",
   "metadata": {},
   "source": [
    "### Number of localizations per cluster"
   ]
  },
  {
   "cell_type": "code",
   "execution_count": null,
   "metadata": {
    "tags": [
     "hide-input"
    ]
   },
   "outputs": [],
   "source": [
    "clust_prop_nloc = [lc.LocalizationProperty(loc_property='localization_count').compute(clust_) for clust_ in clusts]\n",
    "clust_prop_nloc"
   ]
  },
  {
   "cell_type": "code",
   "execution_count": null,
   "metadata": {
    "tags": [
     "hide-input"
    ]
   },
   "outputs": [],
   "source": [
    "for element in clust_prop_nloc:\n",
    "    element.hist(bins=100, log=True, fit=False, alpha=0.5);"
   ]
  },
  {
   "cell_type": "code",
   "execution_count": null,
   "metadata": {
    "tags": [
     "hide-input"
    ]
   },
   "outputs": [],
   "source": [
    "for element in clust_prop_nloc:\n",
    "    print(element.results.describe())"
   ]
  },
  {
   "cell_type": "markdown",
   "metadata": {
    "tags": []
   },
   "source": [
    "## Density per cluster"
   ]
  },
  {
   "cell_type": "code",
   "execution_count": null,
   "metadata": {},
   "outputs": [],
   "source": [
    "localization_densities = [clust_.data.localization_density.values for clust_ in clusts]\n",
    "for data in localization_densities:\n",
    "    print(pd.Series(data).describe(), \"\\n\")"
   ]
  },
  {
   "cell_type": "code",
   "execution_count": null,
   "metadata": {},
   "outputs": [],
   "source": [
    "fig, ax = plt.subplots(nrows=1, ncols=1, figsize=(16, 8))\n",
    "ax.boxplot(localization_densities,\n",
    "           labels=[\"0\", \"1\"],\n",
    "           showmeans=True);\n",
    "ax.violinplot(localization_densities);"
   ]
  }
 ],
 "metadata": {
  "kernelspec": {
   "display_name": "Python 3 (ipykernel)",
   "language": "python",
   "name": "python3"
  },
  "language_info": {
   "codemirror_mode": {
    "name": "ipython",
    "version": 3
   },
   "file_extension": ".py",
   "mimetype": "text/x-python",
   "name": "python",
   "nbconvert_exporter": "python",
   "pygments_lexer": "ipython3",
   "version": "3.10.9"
  },
  "widgets": {
   "application/vnd.jupyter.widget-state+json": {
    "state": {},
    "version_major": 2,
    "version_minor": 0
   }
  }
 },
 "nbformat": 4,
 "nbformat_minor": 4
}
